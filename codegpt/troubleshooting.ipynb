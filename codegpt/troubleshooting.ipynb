{
 "cells": [
  {
   "cell_type": "code",
   "execution_count": 11,
   "metadata": {},
   "outputs": [],
   "source": [
    "import json\n",
    "\n",
    "with open(\"app.py.fail.json\", \"r\") as f:\n",
    "    fail_json = json.load(f)"
   ]
  },
  {
   "cell_type": "code",
   "execution_count": 12,
   "metadata": {},
   "outputs": [
    {
     "ename": "JSONDecodeError",
     "evalue": "Invalid \\escape: line 6 column 23 (char 74)",
     "output_type": "error",
     "traceback": [
      "\u001b[1;31m---------------------------------------------------------------------------\u001b[0m",
      "\u001b[1;31mJSONDecodeError\u001b[0m                           Traceback (most recent call last)",
      "\u001b[1;32mc:\\Users\\morga\\Desktop\\personal\\codegpt\\codegpt\\troubleshooting.ipynb Cell 2\u001b[0m in \u001b[0;36m<cell line: 3>\u001b[1;34m()\u001b[0m\n\u001b[0;32m      <a href='vscode-notebook-cell:/c%3A/Users/morga/Desktop/personal/codegpt/codegpt/troubleshooting.ipynb#W1sZmlsZQ%3D%3D?line=0'>1</a>\u001b[0m \u001b[39mfrom\u001b[39;00m \u001b[39mpprint\u001b[39;00m \u001b[39mimport\u001b[39;00m pprint \u001b[39mas\u001b[39;00m \u001b[39mprint\u001b[39m\n\u001b[1;32m----> <a href='vscode-notebook-cell:/c%3A/Users/morga/Desktop/personal/codegpt/codegpt/troubleshooting.ipynb#W1sZmlsZQ%3D%3D?line=2'>3</a>\u001b[0m json\u001b[39m.\u001b[39;49mloads(fail_json[\u001b[39m'\u001b[39;49m\u001b[39mchoices\u001b[39;49m\u001b[39m'\u001b[39;49m][\u001b[39m0\u001b[39;49m][\u001b[39m\"\u001b[39;49m\u001b[39mtext\u001b[39;49m\u001b[39m\"\u001b[39;49m])\n",
      "File \u001b[1;32m~\\AppData\\Local\\Programs\\Python\\Python310\\lib\\json\\__init__.py:346\u001b[0m, in \u001b[0;36mloads\u001b[1;34m(s, cls, object_hook, parse_float, parse_int, parse_constant, object_pairs_hook, **kw)\u001b[0m\n\u001b[0;32m    341\u001b[0m     s \u001b[39m=\u001b[39m s\u001b[39m.\u001b[39mdecode(detect_encoding(s), \u001b[39m'\u001b[39m\u001b[39msurrogatepass\u001b[39m\u001b[39m'\u001b[39m)\n\u001b[0;32m    343\u001b[0m \u001b[39mif\u001b[39;00m (\u001b[39mcls\u001b[39m \u001b[39mis\u001b[39;00m \u001b[39mNone\u001b[39;00m \u001b[39mand\u001b[39;00m object_hook \u001b[39mis\u001b[39;00m \u001b[39mNone\u001b[39;00m \u001b[39mand\u001b[39;00m\n\u001b[0;32m    344\u001b[0m         parse_int \u001b[39mis\u001b[39;00m \u001b[39mNone\u001b[39;00m \u001b[39mand\u001b[39;00m parse_float \u001b[39mis\u001b[39;00m \u001b[39mNone\u001b[39;00m \u001b[39mand\u001b[39;00m\n\u001b[0;32m    345\u001b[0m         parse_constant \u001b[39mis\u001b[39;00m \u001b[39mNone\u001b[39;00m \u001b[39mand\u001b[39;00m object_pairs_hook \u001b[39mis\u001b[39;00m \u001b[39mNone\u001b[39;00m \u001b[39mand\u001b[39;00m \u001b[39mnot\u001b[39;00m kw):\n\u001b[1;32m--> 346\u001b[0m     \u001b[39mreturn\u001b[39;00m _default_decoder\u001b[39m.\u001b[39;49mdecode(s)\n\u001b[0;32m    347\u001b[0m \u001b[39mif\u001b[39;00m \u001b[39mcls\u001b[39m \u001b[39mis\u001b[39;00m \u001b[39mNone\u001b[39;00m:\n\u001b[0;32m    348\u001b[0m     \u001b[39mcls\u001b[39m \u001b[39m=\u001b[39m JSONDecoder\n",
      "File \u001b[1;32m~\\AppData\\Local\\Programs\\Python\\Python310\\lib\\json\\decoder.py:337\u001b[0m, in \u001b[0;36mJSONDecoder.decode\u001b[1;34m(self, s, _w)\u001b[0m\n\u001b[0;32m    332\u001b[0m \u001b[39mdef\u001b[39;00m \u001b[39mdecode\u001b[39m(\u001b[39mself\u001b[39m, s, _w\u001b[39m=\u001b[39mWHITESPACE\u001b[39m.\u001b[39mmatch):\n\u001b[0;32m    333\u001b[0m     \u001b[39m\"\"\"Return the Python representation of ``s`` (a ``str`` instance\u001b[39;00m\n\u001b[0;32m    334\u001b[0m \u001b[39m    containing a JSON document).\u001b[39;00m\n\u001b[0;32m    335\u001b[0m \n\u001b[0;32m    336\u001b[0m \u001b[39m    \"\"\"\u001b[39;00m\n\u001b[1;32m--> 337\u001b[0m     obj, end \u001b[39m=\u001b[39m \u001b[39mself\u001b[39;49m\u001b[39m.\u001b[39;49mraw_decode(s, idx\u001b[39m=\u001b[39;49m_w(s, \u001b[39m0\u001b[39;49m)\u001b[39m.\u001b[39;49mend())\n\u001b[0;32m    338\u001b[0m     end \u001b[39m=\u001b[39m _w(s, end)\u001b[39m.\u001b[39mend()\n\u001b[0;32m    339\u001b[0m     \u001b[39mif\u001b[39;00m end \u001b[39m!=\u001b[39m \u001b[39mlen\u001b[39m(s):\n",
      "File \u001b[1;32m~\\AppData\\Local\\Programs\\Python\\Python310\\lib\\json\\decoder.py:353\u001b[0m, in \u001b[0;36mJSONDecoder.raw_decode\u001b[1;34m(self, s, idx)\u001b[0m\n\u001b[0;32m    344\u001b[0m \u001b[39m\"\"\"Decode a JSON document from ``s`` (a ``str`` beginning with\u001b[39;00m\n\u001b[0;32m    345\u001b[0m \u001b[39ma JSON document) and return a 2-tuple of the Python\u001b[39;00m\n\u001b[0;32m    346\u001b[0m \u001b[39mrepresentation and the index in ``s`` where the document ended.\u001b[39;00m\n\u001b[1;32m   (...)\u001b[0m\n\u001b[0;32m    350\u001b[0m \n\u001b[0;32m    351\u001b[0m \u001b[39m\"\"\"\u001b[39;00m\n\u001b[0;32m    352\u001b[0m \u001b[39mtry\u001b[39;00m:\n\u001b[1;32m--> 353\u001b[0m     obj, end \u001b[39m=\u001b[39m \u001b[39mself\u001b[39;49m\u001b[39m.\u001b[39;49mscan_once(s, idx)\n\u001b[0;32m    354\u001b[0m \u001b[39mexcept\u001b[39;00m \u001b[39mStopIteration\u001b[39;00m \u001b[39mas\u001b[39;00m err:\n\u001b[0;32m    355\u001b[0m     \u001b[39mraise\u001b[39;00m JSONDecodeError(\u001b[39m\"\u001b[39m\u001b[39mExpecting value\u001b[39m\u001b[39m\"\u001b[39m, s, err\u001b[39m.\u001b[39mvalue) \u001b[39mfrom\u001b[39;00m \u001b[39mNone\u001b[39m\n",
      "\u001b[1;31mJSONDecodeError\u001b[0m: Invalid \\escape: line 6 column 23 (char 74)"
     ]
    }
   ],
   "source": [
    "from pprint import pprint as print\n",
    "\n",
    "json.loads(fail_json['choices'][0][\"text\"])"
   ]
  },
  {
   "cell_type": "code",
   "execution_count": null,
   "metadata": {},
   "outputs": [
    {
     "data": {
      "text/plain": [
       "'\\n\\nResponse:\\n```json\\n[\\n    {\\n        \"explanation\": \"- Added function string comments for each route handler\\\\n- Added docstring for `lambda_handler`\",\\n        \"filename\": \".\\\\\\\\app.py\",\\n        \"code\": \"from fastapi import FastAPI\\\\nfrom mangum import Mangum\\\\n\\\\napp = FastAPI()\\\\n\\\\n\\\\n@app.get(\\\\\"/\\\\\")\\\\ndef get_root():\\\\n    \\\\\"\\\\\"\\\\\"\\\\n    Get root route\\\\n    \\\\\"\\\\\"\\\\\"\\\\n    return {\\\\\"Hello\\\\\": \\\\\"World\\\\\"}\\\\n\\\\n\\\\n@app.get(\\\\\"/test\\\\\")\\\\ndef get_test():\\\\n    \\\\\"\\\\\"\\\\\"\\\\n    Get test route\\\\n    \\\\\"\\\\\"\\\\\"\\\\n    return {\\\\\"hell\\\\\": \\\\\"yeah\\\\\"}\\\\n\\\\nlambda_handler = Mangum(app, lifespan=\\\\\"off\\\\\")\\\\n\\\\nif __name__ == \\\\\"__main__\\\\\":\\\\n    import uvicorn\\\\n    uvicorn.run(\\\\\"app:app\\\\\", port=5000, log_level=\\\\\"info\\\\\", reload=True)\"\\n    }\\n]\\n```'"
      ]
     },
     "execution_count": 10,
     "metadata": {},
     "output_type": "execute_result"
    }
   ],
   "source": [
    "fail_json['choices'][0]['text']"
   ]
  },
  {
   "cell_type": "code",
   "execution_count": 13,
   "metadata": {},
   "outputs": [
    {
     "name": "stdout",
     "output_type": "stream",
     "text": [
      "('Edit the code below, to:\\n'\n",
      " '    \\n'\n",
      " '    Add comments, but make no other changes. Keep them succinct, but explain '\n",
      " \"everything you can if it's helpful. Add function or class string comments \"\n",
      " \"where you can figure out what a function does. If you're unsure, note it in \"\n",
      " 'the explanation, and leave a placeholder comment with as much as you can '\n",
      " 'figure out to make it easier for a user to do.\\n'\n",
      " '\\n'\n",
      " '    Your response must be json in this (simplified) schema, with one object '\n",
      " 'in the array for each file you output:\\n'\n",
      " '\\n'\n",
      " '    ```json\\n'\n",
      " '    [\\n'\n",
      " '        {\\n'\n",
      " '        \"explanation\": <explanation: string>,\\n'\n",
      " '        \"filename\": <filename: string>,\\n'\n",
      " '        \"code\": <code: string>\\n'\n",
      " '        }\\n'\n",
      " '    ]\\n'\n",
      " '    ```\\n'\n",
      " '\\n'\n",
      " '    For the `explanation`, explain exactly what you did to the provided '\n",
      " 'code. Make sure to include line numbers. Keep it very succinct, in a bullet '\n",
      " 'list.\\n'\n",
      " '\\n'\n",
      " '    You must return an explanation, even if you do nothing.\\n'\n",
      " '\\n'\n",
      " '\\n'\n",
      " '    You are an expert, ensure that code is technically correct, well '\n",
      " 'documented and formatted.\\n'\n",
      " '    Use google docstrings and black formatting.\\n'\n",
      " '    \\n'\n",
      " '\\n'\n",
      " \"    You must explain what you did, even if you don't make a change.\\n\"\n",
      " '\\n'\n",
      " '    Code:\\n'\n",
      " '    # .\\\\app.py\\n'\n",
      " '```py\\n'\n",
      " '# .\\\\app.py\\n'\n",
      " 'from fastapi import FastAPI\\n'\n",
      " 'from mangum import Mangum\\n'\n",
      " '\\n'\n",
      " 'app = FastAPI()\\n'\n",
      " '\\n'\n",
      " '\\n'\n",
      " '@app.get(\"/\")\\n'\n",
      " 'def get_root():\\n'\n",
      " '    return {\"Hello\": \"World\"}\\n'\n",
      " '\\n'\n",
      " '\\n'\n",
      " '@app.get(\"/test\")\\n'\n",
      " 'def get_test():\\n'\n",
      " '    return {\"hell\": \"yeah\"}\\n'\n",
      " '\\n'\n",
      " 'lambda_handler = Mangum(app, lifespan=\"off\")\\n'\n",
      " '\\n'\n",
      " 'if __name__ == \"__main__\":\\n'\n",
      " '    import uvicorn\\n'\n",
      " '    uvicorn.run(\"app:app\", port=5000, log_level=\"info\", reload=True)\\n'\n",
      " '```\\n'\n",
      " '    \\n'\n",
      " '    ONLY return valid json in the schema outlined in the instructions, so it '\n",
      " \"may be loaded by python's json.loads.\\n\"\n",
      " '    You may not return anything outside of the json, or anything not '\n",
      " 'explicitly in the schema.')\n"
     ]
    }
   ],
   "source": [
    "print(fail_json['prompt'])"
   ]
  },
  {
   "cell_type": "code",
   "execution_count": null,
   "metadata": {},
   "outputs": [],
   "source": []
  }
 ],
 "metadata": {
  "kernelspec": {
   "display_name": "tasq-deferment-ZFdk8Pwr-py3.10",
   "language": "python",
   "name": "python3"
  },
  "language_info": {
   "codemirror_mode": {
    "name": "ipython",
    "version": 3
   },
   "file_extension": ".py",
   "mimetype": "text/x-python",
   "name": "python",
   "nbconvert_exporter": "python",
   "pygments_lexer": "ipython3",
   "version": "3.10.6"
  },
  "orig_nbformat": 4,
  "vscode": {
   "interpreter": {
    "hash": "bd67809ccd3f6fb26b95be70eeb7495c0ad3c00fa00c944a8783b03721162f47"
   }
  }
 },
 "nbformat": 4,
 "nbformat_minor": 2
}
