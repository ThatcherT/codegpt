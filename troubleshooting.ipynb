{
 "cells": [
  {
   "cell_type": "code",
   "execution_count": 1,
   "metadata": {},
   "outputs": [],
   "source": [
    "import json\n",
    "\n",
    "with open(\"./codegpt/commands/unsafe.py.fail.json\", \"r\") as f:\n",
    "    fail_json = json.load(f)"
   ]
  },
  {
   "cell_type": "code",
   "execution_count": 2,
   "metadata": {},
   "outputs": [
    {
     "data": {
      "text/plain": [
       "'[\\n                {\\n                    \"explanation\": \"Added comments to the code: \\\\n1. Line 3: Added string comment to explain what the \\'edit_file\\' function does.\\\\n2. Line 11: Added string comment to explain what the \\'varnames\\' function does.\\\\n3. Line 21: Added string comment to explain what the \\'comment\\' function does.\\\\n4. Line 30: Added string comment to explain what the \\'edit\\' function does.\",\\n                    \"filename\": \".\\\\\\\\commands\\\\\\\\unsafe.py\",\\n                    \"code\": \"import typer\\\\nfrom textwrap import dedent\\\\n\\\\nfrom commands.refactor import edit_file\\\\n\\\\n\\\\napp = typer.Typer()\\\\n\\\\n\\\\n@app.command()\\\\ndef varnames(\\\\n    file_path_or_raw: str,\\\\n    refactor_instructions: str = \\\\\"In the following code, rename variables as you see appropriate for it to be easier to read. Don\\'t touch any of the code otherwise, other than to update comments.\\\\\",\\\\n    explanation_file: str = None,\\\\n    model: str = \\\\\"text-davinci-003\\\\\",\\\\n    debug: bool = False,\\\\n):\\\\n    \\\\\"\\\\\"\\\\\"\\\\n    Function to refactor variable names in the given file. \\\\n    \\\\\"\\\\\"\\\\\"\\\\n    edit_file(file_path_or_raw, refactor_instructions, explanation_file, model, debug)\\\\n\\\\n\\\\n@app.command()\\\\ndef comment(\\\\n    file_path_or_raw: str,\\\\n    refactor_instructions: str = None,\\\\n    explanation_file: str = None,\\\\n    model: str = \\\\\"text-davinci-003\\\\\",\\\\n    debug: bool = False,\\\\n):\\\\n    \\\\\"\\\\\"\\\\\"\\\\n    Function to add helpful explanatory comments.\\\\n    If you think you see a bug, say so in a comment starting with \\\\`BUG: \\\\`\\\\n    Keep them succinct, but explain everything you can if it\\'s helpful.\\\\n    Add function or class string comments where you can figure out what a function does.\\\\n    If the language has a \\\\\"docstring\\\\\" standard, use it too.\\\\n    If you\\'re unsure, note it in the explanation, and leave a placeholder comment with\\\\n    as much as you can figure out to make it easier for a user to do.\\\\n    \\\\\"\\\\\"\\\\\"\\\\n    if not refactor_instructions:\\\\n        refactor_instructions = dedent(\\\\n            \\\\\"\\\\\"\\\\\"Add helpful explanatory comments.\\\\n    If you think you see a bug, say so in a comment starting with \\\\`BUG: \\\\`\\\\n    Keep them succinct, but explain everything you can if it\\'s helpful.\\\\n    Add function or class string comments where you can figure out what a function does.\\\\n    If the language has a \\\\\"docstring\\\\\" standard, use it too.\\\\n    If you\\'re unsure, note it in the explanation, and leave a placeholder comment with\\\\n    as much as you can figure out to make it easier for a user to do.\\\\\"\\\\\"\\\\\"\\\\n        )\\\\n    edit_file(file_path_or_raw, refactor_instructions, explanation_file, model, debug)\\\\n\\\\n\\\\n@app.command()\\\\ndef edit(\\\\n    file_path_or_raw: str,\\\\n    edit_instructions: str,\\\\n    explanation_file: str = None,\\\\n    model: str = \\\\\"text-davinci-003\\\\\",\\\\n    debug: bool = False,\\\\n):\\\\n    \\\\\"\\\\\"\\\\\"\\\\n    Function to edit the given file with the specified instructions.\\\\n    \\\\\"\\\\\"\\\\\"\\\\n    edit_file(file_path_or_raw, edit_instructions, explanation_file, model, debug)\"\\n                }\\n            ]'"
      ]
     },
     "execution_count": 2,
     "metadata": {},
     "output_type": "execute_result"
    }
   ],
   "source": [
    "fail_json['choices'][0][\"text\"].strip().strip(\"```json\").strip(\"```\").strip()"
   ]
  },
  {
   "cell_type": "code",
   "execution_count": 3,
   "metadata": {},
   "outputs": [
    {
     "ename": "JSONDecodeError",
     "evalue": "Invalid \\escape: line 6 column 1019 (char 1491)",
     "output_type": "error",
     "traceback": [
      "\u001b[1;31m---------------------------------------------------------------------------\u001b[0m",
      "\u001b[1;31mJSONDecodeError\u001b[0m                           Traceback (most recent call last)",
      "\u001b[1;32mc:\\Users\\morga\\Desktop\\personal\\codegpt\\troubleshooting.ipynb Cell 3\u001b[0m in \u001b[0;36m<cell line: 3>\u001b[1;34m()\u001b[0m\n\u001b[0;32m      <a href='vscode-notebook-cell:/c%3A/Users/morga/Desktop/personal/codegpt/troubleshooting.ipynb#W2sZmlsZQ%3D%3D?line=0'>1</a>\u001b[0m \u001b[39mfrom\u001b[39;00m \u001b[39mpprint\u001b[39;00m \u001b[39mimport\u001b[39;00m pprint \u001b[39mas\u001b[39;00m \u001b[39mprint\u001b[39m\n\u001b[1;32m----> <a href='vscode-notebook-cell:/c%3A/Users/morga/Desktop/personal/codegpt/troubleshooting.ipynb#W2sZmlsZQ%3D%3D?line=2'>3</a>\u001b[0m json\u001b[39m.\u001b[39;49mloads(fail_json[\u001b[39m'\u001b[39;49m\u001b[39mchoices\u001b[39;49m\u001b[39m'\u001b[39;49m][\u001b[39m0\u001b[39;49m][\u001b[39m\"\u001b[39;49m\u001b[39mtext\u001b[39;49m\u001b[39m\"\u001b[39;49m]\u001b[39m.\u001b[39;49mstrip(\u001b[39m\"\u001b[39;49m\u001b[39m```json\u001b[39;49m\u001b[39m\"\u001b[39;49m)\u001b[39m.\u001b[39;49mstrip(\u001b[39m\"\u001b[39;49m\u001b[39m```\u001b[39;49m\u001b[39m\"\u001b[39;49m))\n",
      "File \u001b[1;32m~\\AppData\\Local\\Programs\\Python\\Python310\\lib\\json\\__init__.py:346\u001b[0m, in \u001b[0;36mloads\u001b[1;34m(s, cls, object_hook, parse_float, parse_int, parse_constant, object_pairs_hook, **kw)\u001b[0m\n\u001b[0;32m    341\u001b[0m     s \u001b[39m=\u001b[39m s\u001b[39m.\u001b[39mdecode(detect_encoding(s), \u001b[39m'\u001b[39m\u001b[39msurrogatepass\u001b[39m\u001b[39m'\u001b[39m)\n\u001b[0;32m    343\u001b[0m \u001b[39mif\u001b[39;00m (\u001b[39mcls\u001b[39m \u001b[39mis\u001b[39;00m \u001b[39mNone\u001b[39;00m \u001b[39mand\u001b[39;00m object_hook \u001b[39mis\u001b[39;00m \u001b[39mNone\u001b[39;00m \u001b[39mand\u001b[39;00m\n\u001b[0;32m    344\u001b[0m         parse_int \u001b[39mis\u001b[39;00m \u001b[39mNone\u001b[39;00m \u001b[39mand\u001b[39;00m parse_float \u001b[39mis\u001b[39;00m \u001b[39mNone\u001b[39;00m \u001b[39mand\u001b[39;00m\n\u001b[0;32m    345\u001b[0m         parse_constant \u001b[39mis\u001b[39;00m \u001b[39mNone\u001b[39;00m \u001b[39mand\u001b[39;00m object_pairs_hook \u001b[39mis\u001b[39;00m \u001b[39mNone\u001b[39;00m \u001b[39mand\u001b[39;00m \u001b[39mnot\u001b[39;00m kw):\n\u001b[1;32m--> 346\u001b[0m     \u001b[39mreturn\u001b[39;00m _default_decoder\u001b[39m.\u001b[39;49mdecode(s)\n\u001b[0;32m    347\u001b[0m \u001b[39mif\u001b[39;00m \u001b[39mcls\u001b[39m \u001b[39mis\u001b[39;00m \u001b[39mNone\u001b[39;00m:\n\u001b[0;32m    348\u001b[0m     \u001b[39mcls\u001b[39m \u001b[39m=\u001b[39m JSONDecoder\n",
      "File \u001b[1;32m~\\AppData\\Local\\Programs\\Python\\Python310\\lib\\json\\decoder.py:337\u001b[0m, in \u001b[0;36mJSONDecoder.decode\u001b[1;34m(self, s, _w)\u001b[0m\n\u001b[0;32m    332\u001b[0m \u001b[39mdef\u001b[39;00m \u001b[39mdecode\u001b[39m(\u001b[39mself\u001b[39m, s, _w\u001b[39m=\u001b[39mWHITESPACE\u001b[39m.\u001b[39mmatch):\n\u001b[0;32m    333\u001b[0m     \u001b[39m\"\"\"Return the Python representation of ``s`` (a ``str`` instance\u001b[39;00m\n\u001b[0;32m    334\u001b[0m \u001b[39m    containing a JSON document).\u001b[39;00m\n\u001b[0;32m    335\u001b[0m \n\u001b[0;32m    336\u001b[0m \u001b[39m    \"\"\"\u001b[39;00m\n\u001b[1;32m--> 337\u001b[0m     obj, end \u001b[39m=\u001b[39m \u001b[39mself\u001b[39;49m\u001b[39m.\u001b[39;49mraw_decode(s, idx\u001b[39m=\u001b[39;49m_w(s, \u001b[39m0\u001b[39;49m)\u001b[39m.\u001b[39;49mend())\n\u001b[0;32m    338\u001b[0m     end \u001b[39m=\u001b[39m _w(s, end)\u001b[39m.\u001b[39mend()\n\u001b[0;32m    339\u001b[0m     \u001b[39mif\u001b[39;00m end \u001b[39m!=\u001b[39m \u001b[39mlen\u001b[39m(s):\n",
      "File \u001b[1;32m~\\AppData\\Local\\Programs\\Python\\Python310\\lib\\json\\decoder.py:353\u001b[0m, in \u001b[0;36mJSONDecoder.raw_decode\u001b[1;34m(self, s, idx)\u001b[0m\n\u001b[0;32m    344\u001b[0m \u001b[39m\"\"\"Decode a JSON document from ``s`` (a ``str`` beginning with\u001b[39;00m\n\u001b[0;32m    345\u001b[0m \u001b[39ma JSON document) and return a 2-tuple of the Python\u001b[39;00m\n\u001b[0;32m    346\u001b[0m \u001b[39mrepresentation and the index in ``s`` where the document ended.\u001b[39;00m\n\u001b[1;32m   (...)\u001b[0m\n\u001b[0;32m    350\u001b[0m \n\u001b[0;32m    351\u001b[0m \u001b[39m\"\"\"\u001b[39;00m\n\u001b[0;32m    352\u001b[0m \u001b[39mtry\u001b[39;00m:\n\u001b[1;32m--> 353\u001b[0m     obj, end \u001b[39m=\u001b[39m \u001b[39mself\u001b[39;49m\u001b[39m.\u001b[39;49mscan_once(s, idx)\n\u001b[0;32m    354\u001b[0m \u001b[39mexcept\u001b[39;00m \u001b[39mStopIteration\u001b[39;00m \u001b[39mas\u001b[39;00m err:\n\u001b[0;32m    355\u001b[0m     \u001b[39mraise\u001b[39;00m JSONDecodeError(\u001b[39m\"\u001b[39m\u001b[39mExpecting value\u001b[39m\u001b[39m\"\u001b[39m, s, err\u001b[39m.\u001b[39mvalue) \u001b[39mfrom\u001b[39;00m \u001b[39mNone\u001b[39m\n",
      "\u001b[1;31mJSONDecodeError\u001b[0m: Invalid \\escape: line 6 column 1019 (char 1491)"
     ]
    }
   ],
   "source": [
    "from pprint import pprint as print\n",
    "\n",
    "json.loads(fail_json['choices'][0][\"text\"].strip(\"```json\").strip(\"```\"))"
   ]
  },
  {
   "cell_type": "code",
   "execution_count": null,
   "metadata": {},
   "outputs": [
    {
     "data": {
      "text/plain": [
       "\"\\n\\nThis command refactors a file according to the specified instructions and returns an explanation of the changes made in a new file, delimited by '==='. It also checks the length of the prompt and prompts the user for confirmation if it is too long. It also configures the OpenAI secret key if it has not already been set in the environment variables.\""
      ]
     },
     "execution_count": 3,
     "metadata": {},
     "output_type": "execute_result"
    }
   ],
   "source": [
    "fail_json['choices'][0][\"text\"]"
   ]
  },
  {
   "cell_type": "code",
   "execution_count": null,
   "metadata": {},
   "outputs": [
    {
     "ename": "KeyError",
     "evalue": "'prompt'",
     "output_type": "error",
     "traceback": [
      "\u001b[1;31m---------------------------------------------------------------------------\u001b[0m",
      "\u001b[1;31mKeyError\u001b[0m                                  Traceback (most recent call last)",
      "\u001b[1;32mc:\\Users\\morga\\Desktop\\personal\\codegpt\\troubleshooting.ipynb Cell 4\u001b[0m in \u001b[0;36m<cell line: 1>\u001b[1;34m()\u001b[0m\n\u001b[1;32m----> <a href='vscode-notebook-cell:/c%3A/Users/morga/Desktop/personal/codegpt/troubleshooting.ipynb#W3sZmlsZQ%3D%3D?line=0'>1</a>\u001b[0m \u001b[39mprint\u001b[39m(fail_json[\u001b[39m'\u001b[39;49m\u001b[39mprompt\u001b[39;49m\u001b[39m'\u001b[39;49m])\n",
      "\u001b[1;31mKeyError\u001b[0m: 'prompt'"
     ]
    }
   ],
   "source": [
    "print(fail_json)"
   ]
  },
  {
   "cell_type": "code",
   "execution_count": null,
   "metadata": {},
   "outputs": [],
   "source": []
  }
 ],
 "metadata": {
  "kernelspec": {
   "display_name": "tasq-deferment-ZFdk8Pwr-py3.10",
   "language": "python",
   "name": "python3"
  },
  "language_info": {
   "codemirror_mode": {
    "name": "ipython",
    "version": 3
   },
   "file_extension": ".py",
   "mimetype": "text/x-python",
   "name": "python",
   "nbconvert_exporter": "python",
   "pygments_lexer": "ipython3",
   "version": "3.10.6 (tags/v3.10.6:9c7b4bd, Aug  1 2022, 21:53:49) [MSC v.1932 64 bit (AMD64)]"
  },
  "orig_nbformat": 4,
  "vscode": {
   "interpreter": {
    "hash": "bd67809ccd3f6fb26b95be70eeb7495c0ad3c00fa00c944a8783b03721162f47"
   }
  }
 },
 "nbformat": 4,
 "nbformat_minor": 2
}
